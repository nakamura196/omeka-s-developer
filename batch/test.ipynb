{
 "cells": [
  {
   "cell_type": "code",
   "execution_count": 3,
   "metadata": {},
   "outputs": [],
   "source": [
    "import polib\n",
    "from openai import OpenAI\n",
    "import time\n",
    "from dotenv import load_dotenv\n",
    "import os\n",
    "from tqdm import tqdm\n",
    "import glob"
   ]
  },
  {
   "cell_type": "code",
   "execution_count": 5,
   "metadata": {},
   "outputs": [],
   "source": [
    "load_dotenv(override=True)\n",
    "client = OpenAI(api_key=os.getenv(\"OPENAI_API_KEY\"))"
   ]
  },
  {
   "cell_type": "code",
   "execution_count": 20,
   "metadata": {},
   "outputs": [],
   "source": [
    "def get_completion(system_message, user_message, model=\"gpt-3.5-turbo\"):\n",
    "    client = OpenAI()\n",
    "    \n",
    "    messages = [\n",
    "        {\"role\": \"system\", \"content\": system_message},\n",
    "        {\"role\": \"user\", \"content\": user_message}\n",
    "    ]\n",
    "    completion = client.chat.completions.create(\n",
    "        model=model,\n",
    "        messages=messages\n",
    "    )\n",
    "    return completion.choices[0].message.content\n",
    "\n",
    "def translate_text_to_japanese(text):\n",
    "    system_message = \"あなたはデジタルコレクションに関する専門家です。Omeka Sに関する開発者向けドキュメントを翻訳しています。以下のmdファイルの内容を日本語に翻訳して、翻訳結果をmdファイルの形式で返却してください。\"\n",
    "\n",
    "    response = get_completion(system_message, text, model=\"gpt-4-1106-preview\") # , model=\"gpt-4\"\n",
    "    return response\n",
    "\n",
    "def translate_md_file(input_po_path, output_po_path):\n",
    "    \"\"\"`.po`ファイルを読み込み、各メッセージを日本語に翻訳して新しい`.po`ファイルに保存します。\"\"\"\n",
    "\n",
    "    with open(input_po_path, \"r\") as f:\n",
    "        input_po = f.read()\n",
    "\n",
    "        token_count = len(input_po.split())\n",
    "\n",
    "        print(f\"Translating {token_count} tokens in {input_po_path}...\")\n",
    "\n",
    "        translated_text = translate_text_to_japanese(input_po).replace(\"```markdown\\n\", \"\").replace(\"\\n```\", \"\")\n",
    "\n",
    "        with open(output_po_path, \"w\") as f:\n",
    "            f.write(translated_text)"
   ]
  },
  {
   "cell_type": "code",
   "execution_count": 25,
   "metadata": {},
   "outputs": [],
   "source": [
    "files = glob.glob(\"../docs/**/*.md\", recursive=True)\n",
    "\n",
    "files.sort()"
   ]
  },
  {
   "cell_type": "code",
   "execution_count": 28,
   "metadata": {},
   "outputs": [
    {
     "name": "stdout",
     "output_type": "stream",
     "text": [
      "../docs/api/api_reference.md 1 of 1\n",
      "Translating 1404 tokens in ../docs/api/api_reference.md...\n"
     ]
    }
   ],
   "source": [
    "for i in range(len(files)):\n",
    "    input_po_path = files[i]\n",
    "\n",
    "    print(input_po_path, i + 1, \"of\", len(files))\n",
    "\n",
    "    # 入力と出力の`.po`ファイルパスを指定\n",
    "    # input_po_path = '/Users/nakamura/git/kim/archivematica-storage-service-docs/locales/en/LC_MESSAGES/administrators.po'\n",
    "    # output_po_path = '/Users/nakamura/git/kim/archivematica-storage-service-docs/locales/ja/LC_MESSAGES/administrators.po'\n",
    "\n",
    "    basename = os.path.basename(input_po_path)\n",
    "\n",
    "    if \"ja\" in basename:\n",
    "        continue\n",
    "\n",
    "    output_po_path = os.path.join(os.path.dirname(input_po_path), basename.replace(\".md\", \".ja.md\"))\n",
    "\n",
    "    # `.po`ファイルの翻訳を実行\n",
    "    translate_md_file(input_po_path, output_po_path)"
   ]
  }
 ],
 "metadata": {
  "kernelspec": {
   "display_name": ".venv",
   "language": "python",
   "name": "python3"
  },
  "language_info": {
   "codemirror_mode": {
    "name": "ipython",
    "version": 3
   },
   "file_extension": ".py",
   "mimetype": "text/x-python",
   "name": "python",
   "nbconvert_exporter": "python",
   "pygments_lexer": "ipython3",
   "version": "3.9.11"
  }
 },
 "nbformat": 4,
 "nbformat_minor": 2
}
